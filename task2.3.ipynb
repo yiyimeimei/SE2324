{
 "cells": [
  {
   "cell_type": "code",
   "execution_count": 19,
   "id": "43023d6c",
   "metadata": {},
   "outputs": [
    {
     "name": "stdout",
     "output_type": "stream",
     "text": [
      "4     98.86773850722766     1.7320508075688772     True     True\n",
      "6     4924.371056610964     9.171872237725902     True     True\n",
      "8     267816.7009076801     68.5513708519017     True     True\n",
      "10     15193229.676022923     562.7580822446068     True     True\n",
      "12     883478688.3600068     4830.61102914599     True     True\n",
      "14     52214931931.31496     42680.754932096585     False     True\n",
      "16     3121662403201.779     385010.13412784704     False     True\n",
      "18     188253695341971.72     3528111.5219693845     False     True\n",
      "20     1.1488062401835866e+16     32732760.12016748     False     True\n",
      "22     8.933430858445499e+17     306733634.1372337     False     False\n",
      "24     6.723560199784695e+17     2898146407.743579     False     True\n",
      "26     4.809361466442202e+18     27573128629.336758     False     False\n",
      "28     1.6735978722926185e+18     263890004595.30792     False     False\n",
      "30     2.2551731288506577e+19     2538053710277.7437     False     False\n",
      "32     3.6822816376901673e+18     24493615238550.465     False     False\n"
     ]
    }
   ],
   "source": [
    "from scipy import linalg\n",
    "import numpy as np\n",
    "import array as arr\n",
    "from numpy import random\n",
    "import numpy.linalg as lg\n",
    "import matplotlib.pyplot as plt\n",
    "def f(x):\n",
    "    return 1 / (1 + x ** 2)\n",
    "def Fourier(x, j, n):\n",
    "    if j >= 1 and j <= (n / 2):\n",
    "        return np.sin(j * np.pi * x)\n",
    "    elif j >= ((n / 2) + 1) and j <= n:\n",
    "        return np.cos((j - n / 2) * np.pi * x)    \n",
    "def is_pos_def(A):\n",
    "    return np.all(np.linalg.eigvals(A) > 0)\n",
    "def isposdefV(n):\n",
    "    N = int(n)\n",
    "    m = N - 1\n",
    "    arrayX = arr.array('d')\n",
    "    for i in range (0, N): \n",
    "        arrayX.append(i / m)\n",
    "    V = np.vander(arrayX, increasing = True)\n",
    "    return is_pos_def(np.matmul(V.T, V))\n",
    "def isposdefF(n):\n",
    "    N = int(n)\n",
    "    m = N - 1\n",
    "    arrayX = arr.array('d')\n",
    "    for i in range (0, N): \n",
    "        arrayX.append(i / m)\n",
    "    F = np.zeros((N, N))\n",
    "    for i in range(0, N):\n",
    "        for j in range(0, N):\n",
    "            F[i, j] = Fourier(arrayX[i], j + 1, N)    \n",
    "    return is_pos_def(np.matmul(F.T, F))\n",
    "def CondV (n):\n",
    "    N = int(n)\n",
    "    m = N - 1\n",
    "    arrayX = arr.array('d')\n",
    "    for i in range (0, N): \n",
    "        arrayX.append(i / m)\n",
    "    V = np.vander(arrayX, increasing = True)\n",
    "    #print(n,\"  \", lg.cond(V))\n",
    "    return lg.cond(V)        \n",
    "def CondF (n):\n",
    "    N = int(n) \n",
    "    m = N - 1\n",
    "    arrayX = arr.array('d')\n",
    "    for i in range (0, N): \n",
    "        arrayX.append(i / m)\n",
    "    F = np.zeros((N, N))\n",
    "    for i in range(0, N):\n",
    "        for j in range(0, N):\n",
    "            F[i, j] = Fourier(arrayX[i], j + 1, N)\n",
    "    return lg.cond(F)\n",
    "for i in range(4, 33, 2):\n",
    "    print(i,\"   \", CondV(i),\"   \", CondF(i),\"   \", isposdefV(i),\"   \", isposdefF(i))\n"
   ]
  },
  {
   "cell_type": "code",
   "execution_count": null,
   "id": "111e3a9c",
   "metadata": {},
   "outputs": [],
   "source": []
  }
 ],
 "metadata": {
  "kernelspec": {
   "display_name": "Python 3",
   "language": "python",
   "name": "python3"
  },
  "language_info": {
   "codemirror_mode": {
    "name": "ipython",
    "version": 3
   },
   "file_extension": ".py",
   "mimetype": "text/x-python",
   "name": "python",
   "nbconvert_exporter": "python",
   "pygments_lexer": "ipython3",
   "version": "3.8.8"
  }
 },
 "nbformat": 4,
 "nbformat_minor": 5
}
