{
 "cells": [
  {
   "cell_type": "code",
   "execution_count": 14,
   "id": "b5bf66bb",
   "metadata": {},
   "outputs": [
    {
     "name": "stdout",
     "output_type": "stream",
     "text": [
      "When N = 8, M = 16, c in Vc - f is\n",
      " [ 1.00000188e+00 -1.07143503e-03 -9.75766185e-01 -2.00107692e-01\n",
      "  1.80128191e+00 -1.67195234e+00  6.25188414e-01 -7.75730913e-02]\n",
      "When N = 8, M = 16, c in Fc - f is\n",
      " [ 1.35569612 -0.04267561 -0.36313314  0.00197172  0.26167473  0.83497201\n",
      " -0.01168661 -0.08810734]\n",
      "When N = 4, M = 16, c in Vc - f is\n",
      " [ 1.00166564 -0.02698999 -1.01909544  0.54698731]\n",
      "When N = 4, M = 16, c in Fc - f is\n",
      " [ 1.23673804 -0.02483006  0.24763933  0.53933343]\n"
     ]
    }
   ],
   "source": [
    "import numpy as np\n",
    "import array as arr\n",
    "import scipy as sci\n",
    "import numpy.linalg as lg\n",
    "import matplotlib.pyplot as plt\n",
    "def f(x):\n",
    "    return 1 / (1 + x ** 2)\n",
    "def Fourier(x, j, n):\n",
    "    if j >= 1 and j <= (n / 2):\n",
    "        return np.sin(j * np.pi * x)\n",
    "    elif j >= ((n / 2) + 1) and j <= n:\n",
    "        return np.cos((j - n / 2) * np.pi * x)   \n",
    "\n",
    "M = 16\n",
    "N = 8\n",
    "m = M - 1\n",
    "arrayX = arr.array('d') \n",
    "arrayf = arr.array('d')\n",
    "for i in range (0, M): \n",
    "    arrayX.append(i / m)\n",
    "for i in range (0, M):\n",
    "    arrayf.append(f(arrayX[i]))\n",
    "V = np.vander(arrayX, N, increasing = True)\n",
    "F = np.zeros((M, N))\n",
    "for i in range(0, M):\n",
    "    for j in range(0, N):\n",
    "        F[i, j] = Fourier(arrayX[i], j + 1, N)\n",
    "q1, r1 = lg.qr(V)\n",
    "c1 = np.matmul(np.matmul(lg.inv(r1), q1.T), arrayf)\n",
    "print(\"When N = 8, M = 16, c in Vc - f is\\n\", c1)\n",
    "q2, r2 = lg.qr(F)\n",
    "c2 = np.matmul(np.matmul(lg.inv(r2), q2.T), arrayf)\n",
    "print(\"When N = 8, M = 16, c in Fc - f is\\n\", c2)\n",
    "\n",
    "N = 4\n",
    "V = np.vander(arrayX, N, increasing = True)\n",
    "F = np.zeros((M, N))\n",
    "for i in range(0, M):\n",
    "    for j in range(0, N):\n",
    "        F[i, j] = Fourier(arrayX[i], j + 1, N)\n",
    "q1, r1 = lg.qr(V)\n",
    "c1 = np.matmul(np.matmul(lg.inv(r1), q1.T), arrayf)\n",
    "print(\"When N = 4, M = 16, c in Vc - f is\\n\", c1)\n",
    "q2, r2 = lg.qr(F)\n",
    "c2 = np.matmul(np.matmul(lg.inv(r2), q2.T), arrayf)\n",
    "print(\"When N = 4, M = 16, c in Fc - f is\\n\", c2)"
   ]
  },
  {
   "cell_type": "code",
   "execution_count": null,
   "id": "164eb408",
   "metadata": {},
   "outputs": [],
   "source": []
  }
 ],
 "metadata": {
  "kernelspec": {
   "display_name": "Python 3",
   "language": "python",
   "name": "python3"
  },
  "language_info": {
   "codemirror_mode": {
    "name": "ipython",
    "version": 3
   },
   "file_extension": ".py",
   "mimetype": "text/x-python",
   "name": "python",
   "nbconvert_exporter": "python",
   "pygments_lexer": "ipython3",
   "version": "3.8.8"
  }
 },
 "nbformat": 4,
 "nbformat_minor": 5
}
