{
 "cells": [
  {
   "cell_type": "code",
   "execution_count": 11,
   "id": "251b49d3",
   "metadata": {},
   "outputs": [
    {
     "name": "stdout",
     "output_type": "stream",
     "text": [
      "When N = 8, c in Vc = f is\n",
      " [ 1.00000000e+00 -1.92980729e-03 -9.64341077e-01 -2.55940485e-01\n",
      "  1.93414798e+00 -1.83752944e+00  7.29012672e-01 -1.03419841e-01]\n",
      "When N = 8, norm for Vc - f is\n",
      " 1.9641850382783467e-15\n",
      "When N = 8, c in Fc = f is\n",
      " [ 1.35488014 -0.04116264 -0.35430384  0.0015691   0.26057558  0.83058785\n",
      " -0.01057558 -0.08058785]\n",
      "When N = 8, norm for Fc - f is\n",
      " 1.1986424564952127e-15\n"
     ]
    }
   ],
   "source": [
    "from scipy import linalg\n",
    "import numpy as np\n",
    "import array as arr\n",
    "from numpy import random\n",
    "import numpy.linalg as lg\n",
    "import matplotlib.pyplot as plt\n",
    "def f(x):\n",
    "    return 1 / (1 + x ** 2)\n",
    "def Fourier(x, j, n):\n",
    "    if j >= 1 and j <= (n / 2):\n",
    "        return np.sin(j * np.pi * x)\n",
    "    elif j >= ((n / 2) + 1) and j <= n:\n",
    "        return np.cos((j - n / 2) * np.pi * x) \n",
    "N = 8\n",
    "m = N - 1\n",
    "arrayX = arr.array('d') \n",
    "arrayf = arr.array('d')\n",
    "for i in range (0, N): \n",
    "    arrayX.append(i / m)\n",
    "for i in range (0, N):\n",
    "    arrayf.append(f(arrayX[i]))\n",
    "V = np.vander(arrayX, increasing = True)\n",
    "F = np.zeros((N, N))\n",
    "for i in range(0, N):\n",
    "    for j in range(0, N):\n",
    "        F[i, j] = Fourier(arrayX[i], j + 1, N)\n",
    "AV = np.matmul(V.T, V)\n",
    "AF = np.matmul(F.T, F)\n",
    "arrayf1 = np.matmul(V.T, arrayf)\n",
    "arrayf2 = np.matmul(F.T, arrayf)\n",
    "L1 = lg.cholesky(AV)\n",
    "y1 = lg.solve(L1, arrayf1)\n",
    "c1 = lg.solve(L1.T, y1)\n",
    "normV = lg.norm(np.matmul(AV, c1) - arrayf1)\n",
    "print(\"When N = 8, c in Vc = f is\\n\", c1)\n",
    "print(\"When N = 8, norm for Vc - f is\\n\", normV)\n",
    "L2 = lg.cholesky(AF)\n",
    "y2 = lg.solve(L2, arrayf2)\n",
    "c2 = lg.solve(L2.T, y2)\n",
    "normF = lg.norm(np.matmul(AF, c2) - arrayf2)\n",
    "print(\"When N = 8, c in Fc = f is\\n\", c2)\n",
    "print(\"When N = 8, norm for Fc - f is\\n\", normF)"
   ]
  },
  {
   "cell_type": "code",
   "execution_count": null,
   "id": "164bc541",
   "metadata": {},
   "outputs": [],
   "source": []
  }
 ],
 "metadata": {
  "kernelspec": {
   "display_name": "Python 3",
   "language": "python",
   "name": "python3"
  },
  "language_info": {
   "codemirror_mode": {
    "name": "ipython",
    "version": 3
   },
   "file_extension": ".py",
   "mimetype": "text/x-python",
   "name": "python",
   "nbconvert_exporter": "python",
   "pygments_lexer": "ipython3",
   "version": "3.8.8"
  }
 },
 "nbformat": 4,
 "nbformat_minor": 5
}
