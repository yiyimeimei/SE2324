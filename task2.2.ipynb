{
 "cells": [
  {
   "cell_type": "code",
   "execution_count": 45,
   "id": "7b6369bd",
   "metadata": {},
   "outputs": [
    {
     "name": "stdout",
     "output_type": "stream",
     "text": [
      "[ 4.  6.  8. 10. 12. 14. 16. 18. 20. 22. 24. 26. 28. 30. 32.]\n"
     ]
    },
    {
     "data": {
      "text/plain": [
       "[<matplotlib.lines.Line2D at 0x1bef6376f70>]"
      ]
     },
     "execution_count": 45,
     "metadata": {},
     "output_type": "execute_result"
    },
    {
     "data": {
      "image/png": "[encoded data removed]",
      "text/plain": [
       "<Figure size 432x288 with 1 Axes>"
      ]
     },
     "metadata": {
      "needs_background": "light"
     },
     "output_type": "display_data"
    }
   ],
   "source": [
    "from scipy import linalg\n",
    "import numpy as np\n",
    "import array as arr\n",
    "from numpy import random\n",
    "import numpy.linalg as lg\n",
    "import matplotlib.pyplot as plt\n",
    "def f(x):\n",
    "    return 1 / (1 + x ** 2)\n",
    "def Fourier(x, j, n):\n",
    "    if j >= 1 and j <= (n / 2):\n",
    "        return np.sin(j * np.pi * x)\n",
    "    elif j >= ((n / 2) + 1) and j <= n:\n",
    "        return np.cos((j - n / 2) * np.pi * x)    \n",
    "def CondV (n):\n",
    "    N = int(n)\n",
    "    m = N - 1\n",
    "    arrayX = arr.array('d')\n",
    "    for i in range (0, N): \n",
    "        arrayX.append(i / m)\n",
    "    V = np.vander(arrayX, increasing = True)\n",
    "    #print(n,\"  \", lg.cond(V))\n",
    "    return lg.cond(V)        \n",
    "def CondF (n):\n",
    "    N = int(n) \n",
    "    m = N - 1\n",
    "    arrayX = arr.array('d')\n",
    "    for i in range (0, N): \n",
    "        arrayX.append(i / m)\n",
    "    F = np.zeros((N, N))\n",
    "    for i in range(0, N):\n",
    "        for j in range(0, N):\n",
    "            F[i, j] = Fourier(arrayX[i], j + 1, N)\n",
    "    return lg.cond(F)\n",
    "    \n",
    "    \n",
    "    \n",
    "x = np.linspace(4, 32, 15)\n",
    "print(x)\n",
    "y1 = [np.log(CondV(j)) for j in x]\n",
    "y2 = [np.log(CondF(j)) for j in x]\n",
    "\n",
    "    #print(\"When N = \", N, \", cond(V) = \", lg.cond(V), \", cond(F) = \", lg.cond(F))\n",
    "    #print(np.log2(lg.cond(V)), \"       \", np.log2(lg.cond(F)))\n",
    "plt.plot(x, y1, \"r\",  label = 'cond(V)')\n",
    "plt.plot(x, y2, \"b\",  label = \"cond(F)\")\n",
    "\n",
    "\n",
    "\n"
   ]
  },
  {
   "cell_type": "code",
   "execution_count": null,
   "id": "21ec7c45",
   "metadata": {},
   "outputs": [],
   "source": []
  }
 ],
 "metadata": {
  "kernelspec": {
   "display_name": "Python 3",
   "language": "python",
   "name": "python3"
  },
  "language_info": {
   "codemirror_mode": {
    "name": "ipython",
    "version": 3
   },
   "file_extension": ".py",
   "mimetype": "text/x-python",
   "name": "python",
   "nbconvert_exporter": "python",
   "pygments_lexer": "ipython3",
   "version": "3.8.8"
  }
 },
 "nbformat": 4,
 "nbformat_minor": 5
}
